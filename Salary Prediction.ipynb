{
 "cells": [
  {
   "cell_type": "code",
   "execution_count": null,
   "id": "5c8fd18a",
   "metadata": {
    "id": "5c8fd18a"
   },
   "outputs": [],
   "source": [
    "# Install numpy package\n",
    "%pip install numpy\n",
    "%pip install pandas\n",
    "%pip install matplotlib\n",
    "%pip install seaborn\n",
    "%pip install scikit-learn\n",
    "%pip install statsmodels\n",
    "\n",
    "\n",
    "# Import Libraries for Analysis\n",
    "import numpy as np\n",
    "import pandas as pd\n",
    "\n",
    "# Import Libraries for visualization\n",
    "import matplotlib.pyplot as plt\n",
    "import seaborn as sns\n",
    "\n",
    "# Import libraries for train test split\n",
    "from sklearn.model_selection import train_test_split\n",
    "\n",
    "# import Ilbrary for Scaling\n",
    "from sklearn.preprocessing import StandardScaler\n",
    "\n",
    "# import Ilbrary for Model Building\n",
    "from sklearn.linear_model import LinearRegression\n",
    "\n",
    "# Supress Warnings\n",
    "import warnings\n",
    "warnings.filterwarnings('ignore')"
   ]
  },
  {
   "cell_type": "code",
   "execution_count": null,
   "id": "e80ba5aa",
   "metadata": {
    "colab": {
     "base_uri": "https://localhost:8080/",
     "height": 203
    },
    "executionInfo": {
     "elapsed": 8,
     "status": "ok",
     "timestamp": 1624610694471,
     "user": {
      "displayName": "Shape AI",
      "photoUrl": "",
      "userId": "01389988879542529880"
     },
     "user_tz": -330
    },
    "id": "e80ba5aa",
    "outputId": "274b72d3-5c54-4d76-9369-b1aa5a5759bf"
   },
   "outputs": [],
   "source": [
    "# Import the data set\n",
    "import pandas as pd\n",
    "\n",
    "\n",
    "salary_org = pd.read_csv(\"/Users/yugbhavsar/Downloads/train.csv\")\n",
    "\n",
    "# Print top 5 rows of dataset\n",
    "salary_org.head()"
   ]
  },
  {
   "cell_type": "code",
   "execution_count": null,
   "id": "ed6c7b91",
   "metadata": {
    "colab": {
     "base_uri": "https://localhost:8080/"
    },
    "executionInfo": {
     "elapsed": 615,
     "status": "ok",
     "timestamp": 1624610697247,
     "user": {
      "displayName": "Shape AI",
      "photoUrl": "",
      "userId": "01389988879542529880"
     },
     "user_tz": -330
    },
    "id": "ed6c7b91",
    "outputId": "7abeeb2e-d5d6-4b50-dece-07842be8465d"
   },
   "outputs": [],
   "source": [
    "# Check the info of data set\n",
    "salary_org.info()"
   ]
  },
  {
   "cell_type": "code",
   "execution_count": 43,
   "id": "fed3af96",
   "metadata": {
    "id": "fed3af96"
   },
   "outputs": [],
   "source": [
    "# Create a copy of data set\n",
    "salary_cpy = salary_org.copy()"
   ]
  },
  {
   "cell_type": "code",
   "execution_count": null,
   "id": "a69ed8c5",
   "metadata": {
    "colab": {
     "base_uri": "https://localhost:8080/"
    },
    "executionInfo": {
     "elapsed": 9,
     "status": "ok",
     "timestamp": 1624610698599,
     "user": {
      "displayName": "Shape AI",
      "photoUrl": "",
      "userId": "01389988879542529880"
     },
     "user_tz": -330
    },
    "id": "a69ed8c5",
    "outputId": "4dcef361-72b7-4894-ac2f-843d7ee68ec0"
   },
   "outputs": [],
   "source": [
    "# Check column names\n",
    "salary_cpy.columns"
   ]
  },
  {
   "cell_type": "code",
   "execution_count": null,
   "id": "86d3277c",
   "metadata": {
    "colab": {
     "base_uri": "https://localhost:8080/"
    },
    "executionInfo": {
     "elapsed": 5,
     "status": "ok",
     "timestamp": 1624610699005,
     "user": {
      "displayName": "Shape AI",
      "photoUrl": "",
      "userId": "01389988879542529880"
     },
     "user_tz": -330
    },
    "id": "86d3277c",
    "outputId": "aa8529c0-c717-4360-81ba-b947b16e3329"
   },
   "outputs": [],
   "source": [
    "# Remove leading and trailing edges\n",
    "salary_cpy.columns = salary_cpy.columns.str.strip()\n",
    "\n",
    "print(salary_cpy.columns.str)\n",
    "\n",
    "# print coloumns after stripping spaces\n",
    "print(\"After Removing leading and trailing spaces \",  salary_cpy.columns)"
   ]
  },
  {
   "cell_type": "code",
   "execution_count": null,
   "id": "3513277c",
   "metadata": {
    "colab": {
     "base_uri": "https://localhost:8080/"
    },
    "executionInfo": {
     "elapsed": 7,
     "status": "ok",
     "timestamp": 1624610699641,
     "user": {
      "displayName": "Shape AI",
      "photoUrl": "",
      "userId": "01389988879542529880"
     },
     "user_tz": -330
    },
    "id": "3513277c",
    "outputId": "e6f59e0b-6a1b-49f7-affe-342cd4b02110"
   },
   "outputs": [],
   "source": [
    "# Check Null Values in data set\n",
    "salary_cpy.isnull().sum()"
   ]
  },
  {
   "cell_type": "code",
   "execution_count": null,
   "id": "01e4f9e2",
   "metadata": {
    "colab": {
     "base_uri": "https://localhost:8080/"
    },
    "executionInfo": {
     "elapsed": 8,
     "status": "ok",
     "timestamp": 1624610700632,
     "user": {
      "displayName": "Shape AI",
      "photoUrl": "",
      "userId": "01389988879542529880"
     },
     "user_tz": -330
    },
    "id": "01e4f9e2",
    "outputId": "0537ab8b-bae4-400c-b6aa-fb51c9ae225e"
   },
   "outputs": [],
   "source": [
    "# Remove rows having empty hire date\n",
    "salary_cpy = salary_cpy.dropna(subset=['HireDate'])\n",
    "\n",
    "# Check null Values\n",
    "print(salary_cpy.isnull().sum())\n",
    "\n",
    "print(salary_cpy.info())"
   ]
  },
  {
   "cell_type": "code",
   "execution_count": null,
   "id": "9904b0db",
   "metadata": {
    "colab": {
     "base_uri": "https://localhost:8080/"
    },
    "executionInfo": {
     "elapsed": 2,
     "status": "ok",
     "timestamp": 1624610702927,
     "user": {
      "displayName": "Shape AI",
      "photoUrl": "",
      "userId": "01389988879542529880"
     },
     "user_tz": -330
    },
    "id": "9904b0db",
    "outputId": "c801ae04-8837-429c-c70c-0f89af9537bc"
   },
   "outputs": [],
   "source": [
    "# Drop Gross Pay column\n",
    "salary_cpy=salary_cpy.drop('GrossPay',axis=1)\n",
    "\n",
    "# Check null Values\n",
    "salary_cpy.isnull().sum()\n",
    "\n",
    "print(salary_cpy.info())"
   ]
  },
  {
   "cell_type": "code",
   "execution_count": null,
   "id": "c0901b6e",
   "metadata": {
    "colab": {
     "base_uri": "https://localhost:8080/"
    },
    "executionInfo": {
     "elapsed": 7,
     "status": "ok",
     "timestamp": 1624610703481,
     "user": {
      "displayName": "Shape AI",
      "photoUrl": "",
      "userId": "01389988879542529880"
     },
     "user_tz": -330
    },
    "id": "c0901b6e",
    "outputId": "0b1ee8d3-34af-4847-c08c-9613c01f0848"
   },
   "outputs": [],
   "source": [
    "# Value_counts for AgencyID\n",
    "salary_cpy.AgencyID.value_counts()"
   ]
  },
  {
   "cell_type": "code",
   "execution_count": null,
   "id": "60addaaf",
   "metadata": {
    "colab": {
     "base_uri": "https://localhost:8080/"
    },
    "executionInfo": {
     "elapsed": 7,
     "status": "ok",
     "timestamp": 1624610705196,
     "user": {
      "displayName": "Shape AI",
      "photoUrl": "",
      "userId": "01389988879542529880"
     },
     "user_tz": -330
    },
    "id": "60addaaf",
    "outputId": "d3d664d1-7a5f-4c76-bbee-20dfeb6fd7f3"
   },
   "outputs": [],
   "source": [
    "# Value_counts for Agency\n",
    "salary_cpy.Agency.value_counts()"
   ]
  },
  {
   "cell_type": "code",
   "execution_count": null,
   "id": "b2c66de5",
   "metadata": {
    "colab": {
     "base_uri": "https://localhost:8080/"
    },
    "executionInfo": {
     "elapsed": 4,
     "status": "ok",
     "timestamp": 1624610707001,
     "user": {
      "displayName": "Shape AI",
      "photoUrl": "",
      "userId": "01389988879542529880"
     },
     "user_tz": -330
    },
    "id": "b2c66de5",
    "outputId": "80ed5c8c-ed90-4bab-9d34-4ec45467d003"
   },
   "outputs": [],
   "source": [
    "# Value_counts for JobTitle\n",
    "salary_cpy.JobTitle.value_counts()"
   ]
  },
  {
   "cell_type": "code",
   "execution_count": null,
   "id": "19ff3fd8",
   "metadata": {
    "colab": {
     "base_uri": "https://localhost:8080/"
    },
    "executionInfo": {
     "elapsed": 7,
     "status": "ok",
     "timestamp": 1624610708527,
     "user": {
      "displayName": "Shape AI",
      "photoUrl": "",
      "userId": "01389988879542529880"
     },
     "user_tz": -330
    },
    "id": "19ff3fd8",
    "outputId": "9f6093fb-bde0-4e5e-ae46-df7ddadb93e9"
   },
   "outputs": [],
   "source": [
    "#Value counts on HireDate\n",
    "salary_cpy.HireDate.value_counts()"
   ]
  },
  {
   "cell_type": "code",
   "execution_count": null,
   "id": "167b3246",
   "metadata": {
    "colab": {
     "base_uri": "https://localhost:8080/"
    },
    "executionInfo": {
     "elapsed": 5,
     "status": "ok",
     "timestamp": 1624610708527,
     "user": {
      "displayName": "Shape AI",
      "photoUrl": "",
      "userId": "01389988879542529880"
     },
     "user_tz": -330
    },
    "id": "167b3246",
    "outputId": "84fcaba3-bf71-408e-ea72-6c307960ea37"
   },
   "outputs": [],
   "source": [
    "#Value counts on Annual Salary\n",
    "salary_cpy.AnnualSalary.value_counts()"
   ]
  },
  {
   "cell_type": "code",
   "execution_count": 54,
   "id": "BYVc6j4NdSWC",
   "metadata": {
    "id": "BYVc6j4NdSWC"
   },
   "outputs": [],
   "source": [
    "sum = lambda a,b: a+b"
   ]
  },
  {
   "cell_type": "code",
   "execution_count": 55,
   "id": "7aad4859",
   "metadata": {
    "id": "7aad4859"
   },
   "outputs": [],
   "source": [
    "# Removing $ from Annual Salary and converting it into Integer format\n",
    "salary_cpy['AnnualSalary'] = salary_cpy['AnnualSalary'].apply(lambda x : (float)(str(x)[1:]))"
   ]
  },
  {
   "cell_type": "code",
   "execution_count": null,
   "id": "158f0254",
   "metadata": {
    "colab": {
     "base_uri": "https://localhost:8080/"
    },
    "executionInfo": {
     "elapsed": 428,
     "status": "ok",
     "timestamp": 1624610714603,
     "user": {
      "displayName": "Shape AI",
      "photoUrl": "",
      "userId": "01389988879542529880"
     },
     "user_tz": -330
    },
    "id": "158f0254",
    "outputId": "576cfd22-bdc9-4c82-e31c-9cf1bab40ef0"
   },
   "outputs": [],
   "source": [
    "#Value counts on Annual Salary\n",
    "salary_cpy.AnnualSalary.value_counts()"
   ]
  },
  {
   "cell_type": "code",
   "execution_count": null,
   "id": "b86771ea",
   "metadata": {
    "colab": {
     "base_uri": "https://localhost:8080/"
    },
    "executionInfo": {
     "elapsed": 10,
     "status": "ok",
     "timestamp": 1624610715915,
     "user": {
      "displayName": "Shape AI",
      "photoUrl": "",
      "userId": "01389988879542529880"
     },
     "user_tz": -330
    },
    "id": "b86771ea",
    "outputId": "cf70af05-2ca6-429f-a694-fb3a2055a469"
   },
   "outputs": [],
   "source": [
    "salary_cpy['HireDay'] = salary_cpy['HireDate'].apply(lambda x : (int)(str(x[3:5])))    # 05/21/2014\n",
    "salary_cpy['HireMonth'] = salary_cpy['HireDate'].apply(lambda x : (int)(str(x[0:2])))\n",
    "salary_cpy['HireYear'] = salary_cpy['HireDate'].apply(lambda x : (int)(str(x[6:])))\n",
    "\n",
    "# Print info to check whether columns are added\n",
    "salary_cpy.info()\n"
   ]
  },
  {
   "cell_type": "code",
   "execution_count": 58,
   "id": "d631dd2a",
   "metadata": {
    "id": "d631dd2a"
   },
   "outputs": [],
   "source": [
    "# Trim spaces\n",
    "salary_cpy['JobTitle'] = salary_cpy['JobTitle'].apply(lambda x : str(x).strip().replace(\"  \",\" \"))\n",
    "salary_cpy['AgencyID'] = salary_cpy['AgencyID'].apply(lambda x : str(x).strip().replace(\"  \",\" \"))\n",
    "salary_cpy['Agency'] = salary_cpy['Agency'].apply(lambda x : str(x).strip().replace(\"  \",\" \"))"
   ]
  },
  {
   "cell_type": "code",
   "execution_count": 59,
   "id": "d7c40008",
   "metadata": {
    "id": "d7c40008"
   },
   "outputs": [],
   "source": [
    "# Trim spaces\n",
    "salary_cpy['JobTitle'] = salary_cpy['JobTitle'].apply(lambda x : str(x).upper())\n",
    "salary_cpy['AgencyID'] = salary_cpy['AgencyID'].apply(lambda x : str(x).upper())\n",
    "salary_cpy['Agency'] = salary_cpy['Agency'].apply(lambda x : str(x).upper())"
   ]
  },
  {
   "cell_type": "code",
   "execution_count": null,
   "id": "63584ddf",
   "metadata": {
    "colab": {
     "base_uri": "https://localhost:8080/",
     "height": 431
    },
    "executionInfo": {
     "elapsed": 793,
     "status": "ok",
     "timestamp": 1624610720919,
     "user": {
      "displayName": "Shape AI",
      "photoUrl": "",
      "userId": "01389988879542529880"
     },
     "user_tz": -330
    },
    "id": "63584ddf",
    "outputId": "5bda577a-a664-405a-d2a1-431f5077bcfb"
   },
   "outputs": [],
   "source": [
    "plt.subplots(figsize=(15,7))\n",
    "\n",
    "plt.subplot(1,2,1)\n",
    "salary_cpy['AnnualSalary'].plot.box()\n",
    "\n",
    "plt.subplot(1,2,2)\n",
    "plt.hist(salary_cpy['AnnualSalary'], bins=20)\n",
    "\n",
    "plt.show()"
   ]
  },
  {
   "cell_type": "code",
   "execution_count": null,
   "id": "595ab577",
   "metadata": {
    "colab": {
     "base_uri": "https://localhost:8080/"
    },
    "executionInfo": {
     "elapsed": 16,
     "status": "ok",
     "timestamp": 1624610722620,
     "user": {
      "displayName": "Shape AI",
      "photoUrl": "",
      "userId": "01389988879542529880"
     },
     "user_tz": -330
    },
    "id": "595ab577",
    "outputId": "def1ea98-563e-4b29-dd5a-c3baeea67de8"
   },
   "outputs": [],
   "source": [
    "# SUMMARY STATS OF AnnualSalary\n",
    "salary_cpy.AnnualSalary.describe()"
   ]
  },
  {
   "cell_type": "code",
   "execution_count": null,
   "id": "a34b7f8c",
   "metadata": {
    "colab": {
     "base_uri": "https://localhost:8080/"
    },
    "executionInfo": {
     "elapsed": 7,
     "status": "ok",
     "timestamp": 1624610723087,
     "user": {
      "displayName": "Shape AI",
      "photoUrl": "",
      "userId": "01389988879542529880"
     },
     "user_tz": -330
    },
    "id": "a34b7f8c",
    "outputId": "7d02d125-91de-47ff-c90e-095fc6392479"
   },
   "outputs": [],
   "source": [
    "salary_cpy = salary_cpy[salary_cpy['AnnualSalary']<150000]\n",
    "salary_cpy.shape\n"
   ]
  },
  {
   "cell_type": "code",
   "execution_count": null,
   "id": "8c1a2430",
   "metadata": {
    "colab": {
     "base_uri": "https://localhost:8080/",
     "height": 265
    },
    "executionInfo": {
     "elapsed": 12,
     "status": "ok",
     "timestamp": 1624610724391,
     "user": {
      "displayName": "Shape AI",
      "photoUrl": "",
      "userId": "01389988879542529880"
     },
     "user_tz": -330
    },
    "id": "8c1a2430",
    "outputId": "b3305d06-aa4f-40b2-dbfe-0cbc6e09102e"
   },
   "outputs": [],
   "source": [
    "# Create Box Plot for Annual Salary\n",
    "salary_cpy.AnnualSalary.plot.box()\n",
    "plt.show()"
   ]
  },
  {
   "cell_type": "code",
   "execution_count": null,
   "id": "9625bd18",
   "metadata": {
    "colab": {
     "base_uri": "https://localhost:8080/",
     "height": 297
    },
    "executionInfo": {
     "elapsed": 965,
     "status": "ok",
     "timestamp": 1624610726908,
     "user": {
      "displayName": "Shape AI",
      "photoUrl": "",
      "userId": "01389988879542529880"
     },
     "user_tz": -330
    },
    "id": "9625bd18",
    "outputId": "d02fb703-a692-4281-dd1f-3ce6136b74a6"
   },
   "outputs": [],
   "source": [
    "# Check distribution of Target Variable\n",
    "sns.distplot(salary_cpy.AnnualSalary)\n",
    "plt.title(\"Annual Salary Distribution Plot\",fontsize=15)\n",
    "plt.show()"
   ]
  },
  {
   "cell_type": "code",
   "execution_count": null,
   "id": "51ca209b",
   "metadata": {
    "colab": {
     "base_uri": "https://localhost:8080/",
     "height": 725
    },
    "executionInfo": {
     "elapsed": 885,
     "status": "ok",
     "timestamp": 1624610733964,
     "user": {
      "displayName": "Shape AI",
      "photoUrl": "",
      "userId": "01389988879542529880"
     },
     "user_tz": -330
    },
    "id": "51ca209b",
    "outputId": "b67039d8-f386-4f81-f945-3b1a58e699b8"
   },
   "outputs": [],
   "source": [
    "#Top 10 Jobs that based on hirings\n",
    "plt.figure(figsize=(10,5))\n",
    "print(salary_cpy.groupby(['JobTitle'])['Name'].count().sort_values(ascending=False))\n",
    "salary_cpy.groupby(['JobTitle'])['Name'].count().sort_values(ascending=False).head(10).plot.bar()\n",
    "plt.ylabel('No of people Working')\n",
    "plt.title(\"Top 10 Jobs for which Hiring is Highest\",fontsize=20)\n",
    "plt.show()"
   ]
  },
  {
   "cell_type": "code",
   "execution_count": null,
   "id": "1ba25aff",
   "metadata": {
    "colab": {
     "base_uri": "https://localhost:8080/",
     "height": 714
    },
    "executionInfo": {
     "elapsed": 14,
     "status": "ok",
     "timestamp": 1624610738143,
     "user": {
      "displayName": "Shape AI",
      "photoUrl": "",
      "userId": "01389988879542529880"
     },
     "user_tz": -330
    },
    "id": "1ba25aff",
    "outputId": "3d4ebddd-f591-4dbb-d70e-992aff55d945"
   },
   "outputs": [],
   "source": [
    "#Top 10 Jobs that fetche highest Salary\n",
    "plt.figure(figsize=(10,5))\n",
    "print(salary_cpy.groupby(['JobTitle'])['AnnualSalary'].mean().sort_values(ascending=False))\n",
    "salary_cpy.groupby(['JobTitle'])['AnnualSalary'].mean().sort_values(ascending=False).head(10).plot.bar()\n",
    "plt.ylabel('Avg Salary')\n",
    "plt.title(\"Top 10 Highest Paying Jobs\",fontsize=20)\n",
    "plt.show()"
   ]
  },
  {
   "cell_type": "code",
   "execution_count": null,
   "id": "82a306bc",
   "metadata": {
    "colab": {
     "base_uri": "https://localhost:8080/"
    },
    "executionInfo": {
     "elapsed": 429,
     "status": "ok",
     "timestamp": 1624610741230,
     "user": {
      "displayName": "Shape AI",
      "photoUrl": "",
      "userId": "01389988879542529880"
     },
     "user_tz": -330
    },
    "id": "82a306bc",
    "outputId": "506002e3-283b-4d91-d36a-b0ad91c44add"
   },
   "outputs": [],
   "source": [
    "# Find mean Salary\n",
    "mean_sal = salary_cpy.AnnualSalary.mean()\n",
    "\n",
    "# Number of Jobs paying more than mean salary\n",
    "print(salary_cpy.groupby(['JobTitle'])['AnnualSalary'].mean())\n",
    "print(salary_cpy.groupby(['JobTitle'])['AnnualSalary'].mean().reset_index())\n",
    "good_pay_jobs = salary_cpy.groupby(['JobTitle'])['AnnualSalary'].mean().reset_index()\n",
    "good_pay_jobs[good_pay_jobs.AnnualSalary>mean_sal]['JobTitle']"
   ]
  },
  {
   "cell_type": "code",
   "execution_count": null,
   "id": "bdf7a484",
   "metadata": {
    "colab": {
     "base_uri": "https://localhost:8080/",
     "height": 491
    },
    "executionInfo": {
     "elapsed": 788,
     "status": "ok",
     "timestamp": 1624610744385,
     "user": {
      "displayName": "Shape AI",
      "photoUrl": "",
      "userId": "01389988879542529880"
     },
     "user_tz": -330
    },
    "id": "bdf7a484",
    "outputId": "6be560cc-77ac-429a-e049-f7e54abcd6c1"
   },
   "outputs": [],
   "source": [
    "#Top 10 Agencies that has highest number of employees\n",
    "plt.figure(figsize=(10,5))\n",
    "salary_cpy.groupby(['Agency'])['Name'].count().sort_values(ascending=False).head(10).plot.bar()\n",
    "plt.ylabel('No Of Employees')\n",
    "plt.title(\"Top Agencies with Highest number of Employees\",fontsize=18)\n",
    "plt.show()"
   ]
  },
  {
   "cell_type": "code",
   "execution_count": null,
   "id": "75d97baf",
   "metadata": {
    "colab": {
     "base_uri": "https://localhost:8080/",
     "height": 385
    },
    "executionInfo": {
     "elapsed": 13,
     "status": "ok",
     "timestamp": 1624610745041,
     "user": {
      "displayName": "Shape AI",
      "photoUrl": "",
      "userId": "01389988879542529880"
     },
     "user_tz": -330
    },
    "id": "75d97baf",
    "outputId": "6b845268-6312-4154-c135-34ffc632e5dd"
   },
   "outputs": [],
   "source": [
    "#Top 10 Jobs that has highest number of employees\n",
    "plt.figure(figsize=(10,5))\n",
    "salary_cpy.groupby(['AgencyID'])['Name'].count().sort_values(ascending=False).head(10).plot.bar()\n",
    "plt.ylabel('No Of Employees')\n",
    "plt.title(\"Top AgencyID's with Highest number of Employees\",fontsize=18)\n",
    "plt.show()"
   ]
  },
  {
   "cell_type": "code",
   "execution_count": null,
   "id": "757801ec",
   "metadata": {
    "colab": {
     "base_uri": "https://localhost:8080/",
     "height": 369
    },
    "executionInfo": {
     "elapsed": 15,
     "status": "ok",
     "timestamp": 1624610746089,
     "user": {
      "displayName": "Shape AI",
      "photoUrl": "",
      "userId": "01389988879542529880"
     },
     "user_tz": -330
    },
    "id": "757801ec",
    "outputId": "3acdbfc6-991e-4b27-fb1c-e272636987b3"
   },
   "outputs": [],
   "source": [
    "# Salary vs Hire Year\n",
    "plt.figure(figsize=(10,5))\n",
    "salary_cpy.groupby(['HireYear'])['AnnualSalary'].mean().sort_values().head(10).plot.bar()\n",
    "plt.ylabel('AverageSalary')\n",
    "plt.title(\"Average Salary of Employees based on Hire Year\",fontsize=18)\n",
    "plt.show()"
   ]
  },
  {
   "cell_type": "code",
   "execution_count": null,
   "id": "366c167b",
   "metadata": {
    "colab": {
     "base_uri": "https://localhost:8080/",
     "height": 356
    },
    "executionInfo": {
     "elapsed": 543,
     "status": "ok",
     "timestamp": 1624610747027,
     "user": {
      "displayName": "Shape AI",
      "photoUrl": "",
      "userId": "01389988879542529880"
     },
     "user_tz": -330
    },
    "id": "366c167b",
    "outputId": "60bf43e5-95bc-4de0-b896-d3e74ba07f4c"
   },
   "outputs": [],
   "source": [
    "# Checking if Month hired has any such effect\n",
    "plt.figure(figsize=(10,5))\n",
    "salary_cpy.groupby(['HireMonth'])['AnnualSalary'].mean().plot.bar()\n",
    "plt.ylabel('Average Salary')\n",
    "plt.title(\"Average Salary of Employees based on Hire Month\",fontsize=18)\n",
    "plt.show()"
   ]
  },
  {
   "cell_type": "code",
   "execution_count": null,
   "id": "e024e87b",
   "metadata": {
    "colab": {
     "base_uri": "https://localhost:8080/",
     "height": 357
    },
    "executionInfo": {
     "elapsed": 567,
     "status": "ok",
     "timestamp": 1624610747589,
     "user": {
      "displayName": "Shape AI",
      "photoUrl": "",
      "userId": "01389988879542529880"
     },
     "user_tz": -330
    },
    "id": "e024e87b",
    "outputId": "bb032e76-d3ce-4887-9fd6-44083962df82"
   },
   "outputs": [],
   "source": [
    "# Checking on which Month most people are hired\n",
    "plt.figure(figsize=(10,5))\n",
    "salary_cpy.groupby(['HireMonth'])['Name'].count().plot.bar()\n",
    "plt.ylabel('Numer of Hired')\n",
    "plt.title(\"Employers Hirings based on Hire Year\",fontsize=20)\n",
    "plt.show()"
   ]
  },
  {
   "cell_type": "code",
   "execution_count": null,
   "id": "986d22d8",
   "metadata": {
    "colab": {
     "base_uri": "https://localhost:8080/",
     "height": 743
    },
    "executionInfo": {
     "elapsed": 7701,
     "status": "ok",
     "timestamp": 1624610756646,
     "user": {
      "displayName": "Shape AI",
      "photoUrl": "",
      "userId": "01389988879542529880"
     },
     "user_tz": -330
    },
    "id": "986d22d8",
    "outputId": "836f951c-a591-4302-ad9e-9d2e57b40e54"
   },
   "outputs": [],
   "source": [
    "# Plot a pair plot\n",
    "plt.figure(figsize=(15,20))\n",
    "sns.pairplot(salary_cpy)\n",
    "plt.show()"
   ]
  },
  {
   "cell_type": "code",
   "execution_count": null,
   "id": "f5fe2b5d",
   "metadata": {
    "colab": {
     "base_uri": "https://localhost:8080/",
     "height": 341
    },
    "executionInfo": {
     "elapsed": 19,
     "status": "ok",
     "timestamp": 1624610756648,
     "user": {
      "displayName": "Shape AI",
      "photoUrl": "",
      "userId": "01389988879542529880"
     },
     "user_tz": -330
    },
    "id": "f5fe2b5d",
    "outputId": "016fd01b-517d-402c-8f4c-7da3eaee1c8f"
   },
   "outputs": [],
   "source": [
    "# Plot a heatMap\n",
    "plt.figure(figsize=(10,5))\n",
    "numeric_cols = salary_cpy.select_dtypes(include=[np.number])\n",
    "sns.heatmap(numeric_cols.corr(), annot=True)"
   ]
  },
  {
   "cell_type": "code",
   "execution_count": 75,
   "id": "2c4d17f8",
   "metadata": {
    "id": "2c4d17f8"
   },
   "outputs": [],
   "source": [
    "# Create a copy od data frame\n",
    "salary_master = salary_cpy.copy()"
   ]
  },
  {
   "cell_type": "code",
   "execution_count": null,
   "id": "4de40470",
   "metadata": {
    "colab": {
     "base_uri": "https://localhost:8080/"
    },
    "executionInfo": {
     "elapsed": 11,
     "status": "ok",
     "timestamp": 1624610764629,
     "user": {
      "displayName": "Shape AI",
      "photoUrl": "",
      "userId": "01389988879542529880"
     },
     "user_tz": -330
    },
    "id": "4de40470",
    "outputId": "3ef62999-d113-44dd-cc7f-e1b914cf2400"
   },
   "outputs": [],
   "source": [
    "# Apply mean encoding for Job Title\n",
    "mean_Job = salary_master.groupby('JobTitle')['AnnualSalary'].mean()\n",
    "print(mean_Job)\n",
    "salary_master['JobTitle'] = salary_master['JobTitle'].map(mean_Job)\n",
    "\n",
    "print(salary_master['JobTitle'])"
   ]
  },
  {
   "cell_type": "code",
   "execution_count": null,
   "id": "4e0514f2",
   "metadata": {
    "colab": {
     "base_uri": "https://localhost:8080/"
    },
    "executionInfo": {
     "elapsed": 7,
     "status": "ok",
     "timestamp": 1624610765209,
     "user": {
      "displayName": "Shape AI",
      "photoUrl": "",
      "userId": "01389988879542529880"
     },
     "user_tz": -330
    },
    "id": "4e0514f2",
    "outputId": "74cd42b5-6dd4-42ee-c0b0-e24a68f25b87"
   },
   "outputs": [],
   "source": [
    "# Apply mean encoding for Agency\n",
    "mean_agency = salary_master.groupby('Agency')['AnnualSalary'].mean()\n",
    "salary_master['Agency'] = salary_master['Agency'].map(mean_agency)\n",
    "\n",
    "print(salary_master['Agency'])"
   ]
  },
  {
   "cell_type": "code",
   "execution_count": null,
   "id": "23766b39",
   "metadata": {
    "colab": {
     "base_uri": "https://localhost:8080/"
    },
    "executionInfo": {
     "elapsed": 4,
     "status": "ok",
     "timestamp": 1624610766764,
     "user": {
      "displayName": "Shape AI",
      "photoUrl": "",
      "userId": "01389988879542529880"
     },
     "user_tz": -330
    },
    "id": "23766b39",
    "outputId": "991adaa4-966c-405b-aa80-f02eeb3da610"
   },
   "outputs": [],
   "source": [
    "# Apply mean encoding for AgencyID\n",
    "mean_agencyID = salary_master.groupby('AgencyID')['AnnualSalary'].mean()\n",
    "salary_master['AgencyID'] = salary_master['AgencyID'].map(mean_agencyID)\n",
    "\n",
    "print(salary_master['AgencyID'])"
   ]
  },
  {
   "cell_type": "code",
   "execution_count": null,
   "id": "0ce65368",
   "metadata": {
    "colab": {
     "base_uri": "https://localhost:8080/"
    },
    "executionInfo": {
     "elapsed": 4,
     "status": "ok",
     "timestamp": 1624610767427,
     "user": {
      "displayName": "Shape AI",
      "photoUrl": "",
      "userId": "01389988879542529880"
     },
     "user_tz": -330
    },
    "id": "0ce65368",
    "outputId": "7f629ffe-563f-41ed-ced5-ee7e4baf6dff"
   },
   "outputs": [],
   "source": [
    "# Check info\n",
    "salary_master.info()"
   ]
  },
  {
   "cell_type": "code",
   "execution_count": null,
   "id": "8e7b9768",
   "metadata": {
    "colab": {
     "base_uri": "https://localhost:8080/"
    },
    "executionInfo": {
     "elapsed": 10,
     "status": "ok",
     "timestamp": 1624610768548,
     "user": {
      "displayName": "Shape AI",
      "photoUrl": "",
      "userId": "01389988879542529880"
     },
     "user_tz": -330
    },
    "id": "8e7b9768",
    "outputId": "11026982-ffd8-4e7f-a7a6-09985e849bb9",
    "scrolled": true
   },
   "outputs": [],
   "source": [
    "# Drop Name, HireDate column\n",
    "salary_master = salary_master.drop(['HireDate','Name'],axis=1)\n",
    "\n",
    "# Check Info\n",
    "salary_master.info()"
   ]
  },
  {
   "cell_type": "code",
   "execution_count": null,
   "id": "b0lhz32PukKl",
   "metadata": {
    "colab": {
     "base_uri": "https://localhost:8080/",
     "height": 1000
    },
    "executionInfo": {
     "elapsed": 21919,
     "status": "ok",
     "timestamp": 1624610791407,
     "user": {
      "displayName": "Shape AI",
      "photoUrl": "",
      "userId": "01389988879542529880"
     },
     "user_tz": -330
    },
    "id": "b0lhz32PukKl",
    "outputId": "de03d00b-6a04-4f34-df72-2c1058836cd2"
   },
   "outputs": [],
   "source": [
    "# Plot a pair plot\n",
    "plt.figure(figsize=(25,20))\n",
    "sns.pairplot(salary_master)\n",
    "plt.show()"
   ]
  },
  {
   "cell_type": "code",
   "execution_count": null,
   "id": "lO0RnNO4vUXi",
   "metadata": {
    "colab": {
     "base_uri": "https://localhost:8080/",
     "height": 341
    },
    "executionInfo": {
     "elapsed": 1141,
     "status": "ok",
     "timestamp": 1624610792541,
     "user": {
      "displayName": "Shape AI",
      "photoUrl": "",
      "userId": "01389988879542529880"
     },
     "user_tz": -330
    },
    "id": "lO0RnNO4vUXi",
    "outputId": "da116154-a898-4cd4-d58f-8b476c2558a6"
   },
   "outputs": [],
   "source": [
    "# Plot a heatMap\n",
    "plt.figure(figsize=(10,5))\n",
    "sns.heatmap(salary_master.corr(),annot=True)"
   ]
  },
  {
   "cell_type": "markdown",
   "id": "9cc80188",
   "metadata": {
    "id": "9cc80188"
   },
   "source": [
    "#### Split data into train and test set using [train_test_split](https://scikit-learn.org/stable/modules/generated/sklearn.model_selection.train_test_split.html)"
   ]
  },
  {
   "cell_type": "code",
   "execution_count": 83,
   "id": "870e7902",
   "metadata": {
    "id": "870e7902"
   },
   "outputs": [],
   "source": [
    "# Split data into train and test sets\n",
    "salary_train, salary_test = train_test_split(salary_master,train_size=0.7, random_state=42)"
   ]
  },
  {
   "cell_type": "code",
   "execution_count": null,
   "id": "3bff957b",
   "metadata": {
    "colab": {
     "base_uri": "https://localhost:8080/"
    },
    "executionInfo": {
     "elapsed": 5,
     "status": "ok",
     "timestamp": 1624613310209,
     "user": {
      "displayName": "Shape AI",
      "photoUrl": "",
      "userId": "01389988879542529880"
     },
     "user_tz": -330
    },
    "id": "3bff957b",
    "outputId": "87eb9a0c-798b-4779-e126-123d4fb6e7d6"
   },
   "outputs": [],
   "source": [
    "# Shape of train set\n",
    "print(salary_train.shape)\n",
    "\n",
    "# Shape of test set\n",
    "print(salary_test.shape)"
   ]
  },
  {
   "cell_type": "code",
   "execution_count": null,
   "id": "jQce7orobpL_",
   "metadata": {
    "colab": {
     "base_uri": "https://localhost:8080/",
     "height": 203
    },
    "executionInfo": {
     "elapsed": 5,
     "status": "ok",
     "timestamp": 1624613310853,
     "user": {
      "displayName": "Shape AI",
      "photoUrl": "",
      "userId": "01389988879542529880"
     },
     "user_tz": -330
    },
    "id": "jQce7orobpL_",
    "outputId": "d2432e0c-33b1-4608-8d15-1fb9def97c08"
   },
   "outputs": [],
   "source": [
    "salary_train.head()"
   ]
  },
  {
   "cell_type": "code",
   "execution_count": null,
   "id": "cfe00b98",
   "metadata": {
    "colab": {
     "base_uri": "https://localhost:8080/"
    },
    "executionInfo": {
     "elapsed": 2,
     "status": "ok",
     "timestamp": 1624613311833,
     "user": {
      "displayName": "Shape AI",
      "photoUrl": "",
      "userId": "01389988879542529880"
     },
     "user_tz": -330
    },
    "id": "cfe00b98",
    "outputId": "7f0a5d5b-266b-4df2-83c3-1ffe82d09724"
   },
   "outputs": [],
   "source": [
    "# Divide tarin set into Dependent and independent variables\n",
    "y_train = salary_train.pop('AnnualSalary')\n",
    "\n",
    "X_train = salary_train\n",
    "\n",
    "\n",
    "# Divide test set into Dependent and independent variables\n",
    "y_test = salary_test.pop('AnnualSalary')\n",
    "#print(salary_test)\n",
    "X_test = salary_test\n",
    "\n",
    "print(y_train)\n",
    "print(X_train)"
   ]
  },
  {
   "cell_type": "code",
   "execution_count": null,
   "id": "0e921752",
   "metadata": {
    "colab": {
     "base_uri": "https://localhost:8080/",
     "height": 295
    },
    "executionInfo": {
     "elapsed": 13,
     "status": "ok",
     "timestamp": 1624613313024,
     "user": {
      "displayName": "Shape AI",
      "photoUrl": "",
      "userId": "01389988879542529880"
     },
     "user_tz": -330
    },
    "id": "0e921752",
    "outputId": "82b391c5-9077-425d-8234-6abe92589c26"
   },
   "outputs": [],
   "source": [
    "# Scale the train\n",
    "import pandas as pd\n",
    "\n",
    "\n",
    "scaler = StandardScaler() # type: ignore\n",
    "\n",
    "X_train = scaler.fit_transform(X_train) # type: ignore\n",
    "\n",
    "# Convert back to DataFrame\n",
    "X_train = pd.DataFrame(X_train, columns=['JobTitle', 'AgencyID', 'Agency', 'HireDay', 'HireMonth', 'HireYear'])\n",
    "\n",
    "X_train.describe()"
   ]
  },
  {
   "cell_type": "code",
   "execution_count": null,
   "id": "nNLk8c9-eilw",
   "metadata": {
    "colab": {
     "base_uri": "https://localhost:8080/",
     "height": 417
    },
    "executionInfo": {
     "elapsed": 5,
     "status": "ok",
     "timestamp": 1624613314699,
     "user": {
      "displayName": "Shape AI",
      "photoUrl": "",
      "userId": "01389988879542529880"
     },
     "user_tz": -330
    },
    "id": "nNLk8c9-eilw",
    "outputId": "3209e8a4-4f20-42b3-b99d-3920964da717"
   },
   "outputs": [],
   "source": [
    "X_train"
   ]
  },
  {
   "cell_type": "code",
   "execution_count": null,
   "id": "7660b80e",
   "metadata": {
    "colab": {
     "base_uri": "https://localhost:8080/",
     "height": 295
    },
    "executionInfo": {
     "elapsed": 6,
     "status": "ok",
     "timestamp": 1624613315409,
     "user": {
      "displayName": "Shape AI",
      "photoUrl": "",
      "userId": "01389988879542529880"
     },
     "user_tz": -330
    },
    "id": "7660b80e",
    "outputId": "ba52e7ca-83c3-4504-9da1-a034f07148e0"
   },
   "outputs": [],
   "source": [
    "# # Scale the test\n",
    "X_test[X_test.columns] = scaler.transform(X_test[X_test.columns])\n",
    "\n",
    "X_test.describe()"
   ]
  },
  {
   "cell_type": "code",
   "execution_count": null,
   "id": "4793bfb1",
   "metadata": {
    "colab": {
     "base_uri": "https://localhost:8080/",
     "height": 234
    },
    "executionInfo": {
     "elapsed": 434,
     "status": "ok",
     "timestamp": 1624614123459,
     "user": {
      "displayName": "Shape AI",
      "photoUrl": "",
      "userId": "01389988879542529880"
     },
     "user_tz": -330
    },
    "id": "4793bfb1",
    "outputId": "9bbe3fd6-e81e-427d-a143-162ffee4ddac"
   },
   "outputs": [],
   "source": [
    "# A sample Data Frame\n",
    "example_df = pd.DataFrame({'Performance' : [1,2,3,4,5,6], 'Grade':[2,5,4,6,1,3],'Target':[100,300,200,600,200,600]})\n",
    "example_df"
   ]
  },
  {
   "cell_type": "code",
   "execution_count": 91,
   "id": "725fe08f",
   "metadata": {
    "id": "725fe08f"
   },
   "outputs": [],
   "source": [
    "# Create a model by creating a Linear Regression Object\n",
    "example_lr = LinearRegression()\n",
    "\n",
    "example_model = example_lr.fit(example_df[['Performance','Grade']],example_df['Target'])"
   ]
  },
  {
   "cell_type": "code",
   "execution_count": null,
   "id": "0a47e9f4",
   "metadata": {
    "colab": {
     "base_uri": "https://localhost:8080/"
    },
    "executionInfo": {
     "elapsed": 433,
     "status": "ok",
     "timestamp": 1624614131043,
     "user": {
      "displayName": "Shape AI",
      "photoUrl": "",
      "userId": "01389988879542529880"
     },
     "user_tz": -330
    },
    "id": "0a47e9f4",
    "outputId": "14bf9910-5ce5-42dd-d52b-6dc21d8e05c1"
   },
   "outputs": [],
   "source": [
    "# Lets have a look at coefficients as described\n",
    "print(example_lr.coef_)\n",
    "print(example_lr.intercept_)"
   ]
  },
  {
   "cell_type": "code",
   "execution_count": null,
   "id": "3875c2b7",
   "metadata": {
    "colab": {
     "base_uri": "https://localhost:8080/"
    },
    "executionInfo": {
     "elapsed": 3,
     "status": "ok",
     "timestamp": 1624614133031,
     "user": {
      "displayName": "Shape AI",
      "photoUrl": "",
      "userId": "01389988879542529880"
     },
     "user_tz": -330
    },
    "id": "3875c2b7",
    "outputId": "436cf8de-039f-41db-dd1d-0aa6162f7e10"
   },
   "outputs": [],
   "source": [
    "# Calculate R-squared\n",
    "example_model.score(example_df[['Performance','Grade']],example_df['Target'])"
   ]
  },
  {
   "cell_type": "code",
   "execution_count": null,
   "id": "fcc91d44",
   "metadata": {
    "colab": {
     "base_uri": "https://localhost:8080/",
     "height": 474
    },
    "executionInfo": {
     "elapsed": 557,
     "status": "ok",
     "timestamp": 1624614136716,
     "user": {
      "displayName": "Shape AI",
      "photoUrl": "",
      "userId": "01389988879542529880"
     },
     "user_tz": -330
    },
    "id": "fcc91d44",
    "outputId": "a3f36ebb-091c-4937-bdfa-360486b512e8"
   },
   "outputs": [],
   "source": [
    "# Plot Distribution plot of Residuals\n",
    "plt.figure(figsize=(10,5))\n",
    "target_pred = example_model.predict(example_df[['Performance','Grade']])\n",
    "example_res = example_df['Target'] - target_pred\n",
    "print(example_res)\n",
    "sns.distplot(example_res)\n",
    "plt.xlabel('example_res')\n",
    "plt.title(\"Residual Analysis\",fontsize=20)\n",
    "plt.show()"
   ]
  },
  {
   "cell_type": "code",
   "execution_count": null,
   "id": "59442fd5",
   "metadata": {
    "id": "59442fd5",
    "outputId": "b155aae8-d3fa-4196-de3b-3e2c2701873a"
   },
   "outputs": [],
   "source": [
    "sns.scatterplot(x=example_res,y=target_pred)\n",
    "plt.xlabel('Residuals')\n",
    "plt.title(\"Residual Analysis\",fontsize=20)\n",
    "plt.show()"
   ]
  },
  {
   "cell_type": "code",
   "execution_count": 96,
   "id": "a2b199f7",
   "metadata": {
    "id": "a2b199f7"
   },
   "outputs": [],
   "source": [
    "# Build the model\n",
    "lr = LinearRegression()\n",
    "\n",
    "salary_reg = lr.fit(X_train,y_train)"
   ]
  },
  {
   "cell_type": "markdown",
   "id": "cfcd8b26",
   "metadata": {
    "id": "cfcd8b26"
   },
   "source": [
    "Let us check the R-squared"
   ]
  },
  {
   "cell_type": "code",
   "execution_count": null,
   "id": "06aabdc2",
   "metadata": {
    "id": "06aabdc2",
    "outputId": "a99e4476-09a2-420c-80bc-cb44c636ead8",
    "scrolled": true
   },
   "outputs": [],
   "source": [
    "# Verify the r2 score\n",
    "salary_reg.score(X_train,y_train)"
   ]
  },
  {
   "cell_type": "code",
   "execution_count": null,
   "id": "ccfbd12b",
   "metadata": {
    "colab": {
     "base_uri": "https://localhost:8080/"
    },
    "executionInfo": {
     "elapsed": 8,
     "status": "ok",
     "timestamp": 1624613770950,
     "user": {
      "displayName": "Shape AI",
      "photoUrl": "",
      "userId": "01389988879542529880"
     },
     "user_tz": -330
    },
    "id": "ccfbd12b",
    "outputId": "ef6eb694-8238-4b4b-97f6-948cdedd8dc2"
   },
   "outputs": [],
   "source": [
    "# r2 for test data\n",
    "salary_reg.score(X_test,y_test)"
   ]
  },
  {
   "cell_type": "code",
   "execution_count": null,
   "id": "046eece6",
   "metadata": {
    "id": "046eece6",
    "outputId": "d1047d12-5915-4b8c-c174-f96ceba2ef0b",
    "scrolled": true
   },
   "outputs": [],
   "source": [
    "# Plot Distribution plot of Residuals\n",
    "plt.figure(figsize=(10,5))\n",
    "y_train_pred = salary_reg.predict(X_train)\n",
    "res = y_train - y_train_pred\n",
    "sns.distplot(res)\n",
    "plt.xlabel('Residuals')\n",
    "plt.title(\"Residual Analysis\",fontsize=20)\n",
    "plt.show()"
   ]
  },
  {
   "cell_type": "code",
   "execution_count": null,
   "id": "b1924659",
   "metadata": {
    "id": "b1924659",
    "outputId": "9ddc9420-fed1-4c2a-b4d3-67456c82bc53"
   },
   "outputs": [],
   "source": [
    "sns.scatterplot(x=res,y=y_train_pred)\n",
    "plt.xlabel('Residuals')\n",
    "plt.title(\"Residual Analysis\",fontsize=20)\n",
    "plt.show()"
   ]
  },
  {
   "cell_type": "code",
   "execution_count": null,
   "id": "7575bbbc",
   "metadata": {
    "id": "7575bbbc",
    "outputId": "37b206d4-23a4-42cc-b755-b67757ec8f42"
   },
   "outputs": [],
   "source": [
    "# Print coef\n",
    "print(\"Coef are:\",salary_reg.coef_)\n",
    "\n",
    "#print intercept\n",
    "print(\"Intercept is\",salary_reg.intercept_)"
   ]
  },
  {
   "cell_type": "code",
   "execution_count": null,
   "id": "8555d52c",
   "metadata": {
    "id": "8555d52c",
    "outputId": "82480e23-eb62-45c7-959a-a3e2b8c709d1"
   },
   "outputs": [],
   "source": [
    "model = str(salary_reg.intercept_)\n",
    "\n",
    "for i in range(len(salary_reg.coef_)):\n",
    "    model = model +' + '  +(str(salary_reg.coef_[i])) + ' * ' +(str(X_train.columns[i]))\n",
    "print(model)"
   ]
  }
 ],
 "metadata": {
  "colab": {
   "name": "Salary Prediction.ipynb",
   "provenance": []
  },
  "kernelspec": {
   "display_name": "Python 3",
   "language": "python",
   "name": "python3"
  },
  "language_info": {
   "codemirror_mode": {
    "name": "ipython",
    "version": 3
   },
   "file_extension": ".py",
   "mimetype": "text/x-python",
   "name": "python",
   "nbconvert_exporter": "python",
   "pygments_lexer": "ipython3",
   "version": "3.9.6"
  }
 },
 "nbformat": 4,
 "nbformat_minor": 5
}
